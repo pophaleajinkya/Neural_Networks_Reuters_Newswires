{
  "cells": [
    {
      "cell_type": "markdown",
      "metadata": {
        "id": "86cHjRNnfDV2"
      },
      "source": [
        "#BUAI 446 - Fall 2023\n",
        "##Homework 1\n",
        "\n"
      ]
    },
    {
      "cell_type": "markdown",
      "metadata": {
        "id": "RNjb8O5ec_66"
      },
      "source": [
        "In this homework assignment, you are asked to develop a neural network model to classify Reuters newswires into one of the 46 different mutually-exclusive topics. Each sample (news) belongs to one and only one category. You will need to use what you learned in the first two lectures to successfully complete this assignment. Please feel free to return to the MNIST and IMDb notebooks as there are many similarities between this homework assignment and the examples we reviewed in class.\n",
        "\n",
        "I wrote some code below to read the data into your notebook and to get you going.\n",
        "\n"
      ]
    },
    {
      "cell_type": "code",
      "execution_count": null,
      "metadata": {
        "id": "HaxhaG6D2oY_"
      },
      "outputs": [],
      "source": [
        "from tensorflow.keras.datasets import reuters\n",
        "(train_data, train_labels), (test_data, test_labels) = reuters.load_data(num_words=10000)"
      ]
    },
    {
      "cell_type": "markdown",
      "metadata": {
        "id": "_-azRxNFwtzG"
      },
      "source": [
        "The words in the train and test datasets are already encoded into numbers (similar to our IMDb example). Each sample is a list of integers (word indices), thus has a different length.\n",
        "\n",
        "We can decode them back to words easily. Let's decode the 10th training sample."
      ]
    },
    {
      "cell_type": "code",
      "execution_count": null,
      "metadata": {
        "colab": {
          "base_uri": "https://localhost:8080/",
          "height": 72
        },
        "id": "TO9_RabF1ZrQ",
        "outputId": "8e839445-1aed-4242-a2ab-b500efe1805e"
      },
      "outputs": [
        {
          "data": {
            "application/vnd.google.colaboratory.intrinsic+json": {
              "type": "string"
            },
            "text/plain": [
              "'? lt aramco corp has accepted japanese ? to lift a higher proportion of arab heavy crude oil under term contracts in july oil industry sources said japanese companies requested a ratio of 80 pct arab heavy to 20 pct arab light under a term contract agreement with aramco for 100 000 barrels per day the sources said the contractual ratio is 30 pct heavy crude to 70 pct light japanese demand for heavy crude oil has increased substantially since the all japan ? union ceased ? into the northern mideast gulf last month causing problems with liftings of heavy kuwait and ? crudes reuter 3'"
            ]
          },
          "execution_count": 10,
          "metadata": {},
          "output_type": "execute_result"
        }
      ],
      "source": [
        "word_index = reuters.get_word_index()\n",
        "reverse_word_index = dict([(value, key) for (key, value) in word_index.items()])\n",
        "# Note that our indices were offset by 3\n",
        "# because 0, 1 and 2 are reserved indices for \"padding\", \"start of sequence\", and \"unknown\".\n",
        "decoded_newswire = ' '.join([reverse_word_index.get(i - 3, '?') for i in train_data[9]])\n",
        "decoded_newswire"
      ]
    },
    {
      "cell_type": "markdown",
      "metadata": {
        "id": "_YewkjsT196B"
      },
      "source": [
        "This particular news belongs to category 16 (out of 46 categories)."
      ]
    },
    {
      "cell_type": "code",
      "execution_count": null,
      "metadata": {
        "colab": {
          "base_uri": "https://localhost:8080/"
        },
        "id": "yofAm_Gw1-PE",
        "outputId": "b6a10896-299f-4d06-a07c-0df0347e411f"
      },
      "outputs": [
        {
          "data": {
            "text/plain": [
              "16"
            ]
          },
          "execution_count": 11,
          "metadata": {},
          "output_type": "execute_result"
        }
      ],
      "source": [
        "train_labels[9]"
      ]
    },
    {
      "cell_type": "markdown",
      "metadata": {
        "id": "6184jIDa3cCc"
      },
      "source": [
        "Your job is to build neural network models, try to improve them, explain your analyses clearly, and elaborate on your findings.     \n",
        "\n",
        "1. Write code to see how many samples are in the train and test sets. (5 pts)\n",
        "2. Vectorize the train and test data using the 'one-hot-encoding' approach discussed in class. (5 pts)\n",
        "3. Vectorize the train and test labels the way it is appropriate for multi-class single-label classification. (5 pts)\n",
        "4. Develop an MLP with 2 hidden layers, each having 64 neurons with ReLU activation function. Also, include the appropriate output layer based on the classification task in hand. Call this `model1`. (5 pts)\n",
        "5. Compile the model. Use RMSProp optimizer with appropriate loss function, and follow the accuracy metric during training. (5 pts)\n",
        "6. Shuffle and set apart 1,000 samples in the training data to use as a validation set. (5 pts)\n",
        "7. Train the model for 30 epochs and use batches of size 512. Also, monitor the performance of the model on the validation set during training. Report the training and validation accuracy. (5 pts)\n",
        "8.  Evaluate the model on test set and report the test accuracy. Also, predict the class for the first sample in the test set. (10 pts)\n",
        "9. Use `model.summary()` to see how many trainable parameters (weights and biases) your neural network model has. Explain why each layer has that many parameters? (5 pts)\n",
        "10. Plot the training and validation loss over training epochs. Also, plot the training and validation accuracy. Interpret these plots: explain if you see any signs of overfitting. (10 pts)\n",
        "11. Try to improve the performance of your model using regularization methods. Specifically, try the following methods:\n",
        "*   L2 weight regularization with alpha=0.001 applied to both hidden layers (call it `model2`).\n",
        "*   dropout with p=0.1 applied to both hidden layers (call it `model3`).\n",
        "\n",
        "Keep all other parameters the same as your first model. Make sure to monitor perofrmance on the validation set to use in the next question. (20 pts)\n",
        "12. Create a graph and plot the validation loss of all the three models on that graph. Use this graph to decide which model you are going to select and why. (10 pts)\n",
        "13. Apply early stopping to your selected model from the previous question to prevent it from overfitting. Call this the `final_model`. Evaluate this `final_model` on the test set and report the test accuracy. How does it compare to the test accuracy you obtained from your first model in Question 8? (10 pts)"
      ]
    },
    {
      "cell_type": "markdown",
      "metadata": {
        "id": "uIwRkDQ_f11K"
      },
      "source": [
        "Make sure you run all of your code so that the output of each code block appears below it.  Once you are done, download your final `.ipynb` file (File -> Download .ipynb) and submit it on Canvas. Name your file as follows: LastName_FirstName_HW1.ipynb"
      ]
    },
    {
      "cell_type": "code",
      "execution_count": null,
      "metadata": {
        "id": "10fkFyOwhaZ8"
      },
      "outputs": [],
      "source": [
        "from tensorflow.keras import models\n",
        "from tensorflow.keras import layers"
      ]
    },
    {
      "cell_type": "markdown",
      "metadata": {
        "id": "FwiAQLzLqHK3"
      },
      "source": [
        "**1. Write code to see how many samples are in the train and test sets. (5 pts)**"
      ]
    },
    {
      "cell_type": "code",
      "execution_count": null,
      "metadata": {
        "colab": {
          "base_uri": "https://localhost:8080/"
        },
        "id": "j_FHRCFWhoqX",
        "outputId": "fe16c228-19bf-4442-c385-0d493ccbae34"
      },
      "outputs": [
        {
          "data": {
            "text/plain": [
              "8982"
            ]
          },
          "execution_count": 13,
          "metadata": {},
          "output_type": "execute_result"
        }
      ],
      "source": [
        "len(train_data)"
      ]
    },
    {
      "cell_type": "code",
      "execution_count": null,
      "metadata": {
        "colab": {
          "base_uri": "https://localhost:8080/"
        },
        "id": "MhRuafGLhpZL",
        "outputId": "21d400aa-7a2d-4745-9177-732acd605bb6"
      },
      "outputs": [
        {
          "data": {
            "text/plain": [
              "2246"
            ]
          },
          "execution_count": 14,
          "metadata": {},
          "output_type": "execute_result"
        }
      ],
      "source": [
        "len(test_data)"
      ]
    },
    {
      "cell_type": "markdown",
      "metadata": {
        "id": "J6KuUhx3he2d"
      },
      "source": [
        "We have 8,982 training examples and 2,246 test examples:"
      ]
    },
    {
      "cell_type": "markdown",
      "metadata": {
        "id": "2p6aKxSSqO1g"
      },
      "source": [
        "**2. Vectorize the train and test data using the 'one-hot-encoding' approach discussed in class. (5 pts)**"
      ]
    },
    {
      "cell_type": "markdown",
      "metadata": {
        "id": "lEB6qe92hvmo"
      },
      "source": [
        "We can vectorize the data with the same code as in the IMDb example:"
      ]
    },
    {
      "cell_type": "code",
      "execution_count": null,
      "metadata": {
        "id": "HbFfPABph3F3"
      },
      "outputs": [],
      "source": [
        "import numpy as np\n",
        "\n",
        "def vectorize_sequences(sequences, dimension=10000):\n",
        "    results = np.zeros((len(sequences), dimension))\n",
        "    for i, sequence in enumerate(sequences):\n",
        "        results[i, sequence] = 1.\n",
        "    return results\n",
        "\n",
        "# Our vectorized training data\n",
        "x_train = vectorize_sequences(train_data)\n",
        "# Our vectorized test data\n",
        "x_test = vectorize_sequences(test_data)"
      ]
    },
    {
      "cell_type": "markdown",
      "metadata": {
        "id": "w_IdK_p1qUc9"
      },
      "source": [
        "**3. Vectorize the train and test labels the way it is appropriate for multi-class single-label classification. (5 pts)**"
      ]
    },
    {
      "cell_type": "markdown",
      "metadata": {
        "id": "6A4c1sbWh56N"
      },
      "source": [
        "To vectorize the labels, we can use \"one-hot\" encoding (also called \"categorical encoding\"). One-hot encoding is a widely used format for multi-class single-label classification labels. Note that there is a built-in way to do this in Keras, which you have already seen in our MNIST example:"
      ]
    },
    {
      "cell_type": "code",
      "execution_count": null,
      "metadata": {
        "id": "-icUxWaookwV"
      },
      "outputs": [],
      "source": [
        "from keras.utils.np_utils import to_categorical\n",
        "\n",
        "one_hot_train_labels = to_categorical(train_labels)\n",
        "one_hot_test_labels = to_categorical(test_labels)"
      ]
    },
    {
      "cell_type": "markdown",
      "metadata": {
        "id": "ERRXqeGlqgnj"
      },
      "source": [
        "**4. Develop an MLP with 2 hidden layers, each having 64 neurons with ReLU activation function. Also, include the appropriate output layer based on the classification task in hand. Call this `model1`. (5 pts)**"
      ]
    },
    {
      "cell_type": "markdown",
      "metadata": {
        "id": "acCBD2q6ot09"
      },
      "source": [
        "Now, let's build our first NN model (model1). Note that this problem is an example of multi-class single-label calssification, similar to MNIST. Instead of 10 classes in MNIST, here we have 46 classes."
      ]
    },
    {
      "cell_type": "code",
      "execution_count": null,
      "metadata": {
        "id": "vIGGpNzWp6ce"
      },
      "outputs": [],
      "source": [
        "model1 = models.Sequential()\n",
        "model1.add(layers.Dense(64, activation='relu', input_shape=(10000,)))\n",
        "model1.add(layers.Dense(64, activation='relu'))\n",
        "model1.add(layers.Dense(46, activation='softmax'))"
      ]
    },
    {
      "cell_type": "markdown",
      "metadata": {
        "id": "Ehxbe-4hqPcX"
      },
      "source": [
        "There are two other things you should note about this architecture:\n",
        "\n",
        "* We are ending the network with a `Dense` layer of size 46. This means that for each input sample, our network will output a vector of length 46. Each entry in this vector (each number) will encode a different output class.\n",
        "* The last layer uses a `softmax` activation. You have already seen this pattern in the MNIST example. It means that the network will\n",
        "output a _probability distribution_ over the 46 different output classes, i.e. for every input sample, the network will produce an\n",
        "output vector of length 46 where `output[i]` is the probability that the sample belongs to class `i`. The 46 probabilities will sum to 1.\n",
        "\n",
        "The loss function to use in this case is `categorical_crossentropy` (please see the Table we had in our lecture slides).\n",
        "Categorical_crossentropy measures the distance between two probability distributions:\n",
        "in our case, between the probability distribution output by our network, and the true distribution of the labels. By minimizing the\n",
        "distance between these two distributions, we train our network to output something as close as possible to the true labels."
      ]
    },
    {
      "cell_type": "markdown",
      "metadata": {
        "id": "ScGgkNc2qz5d"
      },
      "source": [
        "**5. Compile the model. Use RMSProp optimizer with appropriate loss function, and follow the accuracy metric during training. (5 pts)**"
      ]
    },
    {
      "cell_type": "code",
      "execution_count": null,
      "metadata": {
        "id": "-dKq-8alqpX9"
      },
      "outputs": [],
      "source": [
        "model1.compile(optimizer='rmsprop',\n",
        "               loss='categorical_crossentropy',\n",
        "               metrics=['accuracy'])"
      ]
    },
    {
      "cell_type": "markdown",
      "metadata": {
        "id": "xhwbapcvq3n3"
      },
      "source": [
        "**6. Shuffle and set apart 1,000 samples in the training data to use as a validation set. (5 pts)**"
      ]
    },
    {
      "cell_type": "markdown",
      "metadata": {
        "id": "y-g0SjgAq0YP"
      },
      "source": [
        "We can set apart 1,000 samples in our training data to use as a validation set as follows:"
      ]
    },
    {
      "cell_type": "code",
      "execution_count": null,
      "metadata": {
        "id": "qZxJqNO7q4J8"
      },
      "outputs": [],
      "source": [
        "from sklearn.utils import shuffle\n",
        "x_train, one_hot_train_labels = shuffle(x_train, one_hot_train_labels)\n",
        "\n",
        "x_val = x_train[:1000]\n",
        "partial_x_train = x_train[1000:]\n",
        "\n",
        "y_val = one_hot_train_labels[:1000]\n",
        "partial_y_train = one_hot_train_labels[1000:]"
      ]
    },
    {
      "cell_type": "markdown",
      "metadata": {
        "id": "6lyU5SRDrN1L"
      },
      "source": [
        "**7. Train the model for 30 epochs and use batches of size 512. Also, monitor the performance of the model on the validation set during training. Report the training and validation accuracy. (5 pts)**\n"
      ]
    },
    {
      "cell_type": "markdown",
      "metadata": {
        "id": "6IN3OxAMtAgh"
      },
      "source": [
        "Now let's train our network for 30 epochs:"
      ]
    },
    {
      "cell_type": "code",
      "execution_count": null,
      "metadata": {
        "colab": {
          "base_uri": "https://localhost:8080/"
        },
        "id": "KWSnN8uotA7y",
        "outputId": "ac9bcead-528a-4336-8203-4b6f0bc50342"
      },
      "outputs": [
        {
          "name": "stdout",
          "output_type": "stream",
          "text": [
            "Epoch 1/30\n",
            "16/16 [==============================] - 1s 59ms/step - loss: 2.6140 - accuracy: 0.5337 - val_loss: 1.7602 - val_accuracy: 0.6350\n",
            "Epoch 2/30\n",
            "16/16 [==============================] - 1s 49ms/step - loss: 1.4020 - accuracy: 0.7087 - val_loss: 1.3545 - val_accuracy: 0.7120\n",
            "Epoch 3/30\n",
            "16/16 [==============================] - 1s 48ms/step - loss: 1.0364 - accuracy: 0.7766 - val_loss: 1.1790 - val_accuracy: 0.7520\n",
            "Epoch 4/30\n",
            "16/16 [==============================] - 1s 48ms/step - loss: 0.8240 - accuracy: 0.8251 - val_loss: 1.0751 - val_accuracy: 0.7720\n",
            "Epoch 5/30\n",
            "16/16 [==============================] - 1s 49ms/step - loss: 0.6497 - accuracy: 0.8643 - val_loss: 1.0378 - val_accuracy: 0.7920\n",
            "Epoch 6/30\n",
            "16/16 [==============================] - 1s 49ms/step - loss: 0.5253 - accuracy: 0.8903 - val_loss: 0.9880 - val_accuracy: 0.7910\n",
            "Epoch 7/30\n",
            "16/16 [==============================] - 1s 49ms/step - loss: 0.4257 - accuracy: 0.9119 - val_loss: 0.9698 - val_accuracy: 0.7950\n",
            "Epoch 8/30\n",
            "16/16 [==============================] - 1s 48ms/step - loss: 0.3455 - accuracy: 0.9272 - val_loss: 0.9266 - val_accuracy: 0.8090\n",
            "Epoch 9/30\n",
            "16/16 [==============================] - 1s 51ms/step - loss: 0.2850 - accuracy: 0.9410 - val_loss: 0.9249 - val_accuracy: 0.8040\n",
            "Epoch 10/30\n",
            "16/16 [==============================] - 1s 51ms/step - loss: 0.2427 - accuracy: 0.9450 - val_loss: 0.9718 - val_accuracy: 0.8020\n",
            "Epoch 11/30\n",
            "16/16 [==============================] - 1s 49ms/step - loss: 0.2059 - accuracy: 0.9493 - val_loss: 0.9316 - val_accuracy: 0.8150\n",
            "Epoch 12/30\n",
            "16/16 [==============================] - 1s 48ms/step - loss: 0.1819 - accuracy: 0.9540 - val_loss: 0.9376 - val_accuracy: 0.8100\n",
            "Epoch 13/30\n",
            "16/16 [==============================] - 1s 47ms/step - loss: 0.1679 - accuracy: 0.9540 - val_loss: 0.9989 - val_accuracy: 0.7970\n",
            "Epoch 14/30\n",
            "16/16 [==============================] - 1s 49ms/step - loss: 0.1483 - accuracy: 0.9546 - val_loss: 1.0086 - val_accuracy: 0.7980\n",
            "Epoch 15/30\n",
            "16/16 [==============================] - 1s 49ms/step - loss: 0.1416 - accuracy: 0.9558 - val_loss: 1.0222 - val_accuracy: 0.8020\n",
            "Epoch 16/30\n",
            "16/16 [==============================] - 1s 48ms/step - loss: 0.1330 - accuracy: 0.9564 - val_loss: 1.0393 - val_accuracy: 0.8050\n",
            "Epoch 17/30\n",
            "16/16 [==============================] - 1s 49ms/step - loss: 0.1237 - accuracy: 0.9597 - val_loss: 1.0951 - val_accuracy: 0.7960\n",
            "Epoch 18/30\n",
            "16/16 [==============================] - 1s 50ms/step - loss: 0.1179 - accuracy: 0.9578 - val_loss: 1.0584 - val_accuracy: 0.8100\n",
            "Epoch 19/30\n",
            "16/16 [==============================] - 1s 49ms/step - loss: 0.1173 - accuracy: 0.9589 - val_loss: 1.0844 - val_accuracy: 0.8010\n",
            "Epoch 20/30\n",
            "16/16 [==============================] - 1s 48ms/step - loss: 0.1149 - accuracy: 0.9568 - val_loss: 1.0558 - val_accuracy: 0.8060\n",
            "Epoch 21/30\n",
            "16/16 [==============================] - 1s 48ms/step - loss: 0.1089 - accuracy: 0.9569 - val_loss: 1.2187 - val_accuracy: 0.7870\n",
            "Epoch 22/30\n",
            "16/16 [==============================] - 1s 51ms/step - loss: 0.1053 - accuracy: 0.9582 - val_loss: 1.1756 - val_accuracy: 0.7940\n",
            "Epoch 23/30\n",
            "16/16 [==============================] - 1s 49ms/step - loss: 0.1061 - accuracy: 0.9577 - val_loss: 1.1252 - val_accuracy: 0.8020\n",
            "Epoch 24/30\n",
            "16/16 [==============================] - 1s 50ms/step - loss: 0.1028 - accuracy: 0.9579 - val_loss: 1.1867 - val_accuracy: 0.8050\n",
            "Epoch 25/30\n",
            "16/16 [==============================] - 1s 48ms/step - loss: 0.1014 - accuracy: 0.9593 - val_loss: 1.1317 - val_accuracy: 0.7950\n",
            "Epoch 26/30\n",
            "16/16 [==============================] - 1s 49ms/step - loss: 0.1064 - accuracy: 0.9538 - val_loss: 1.1310 - val_accuracy: 0.8060\n",
            "Epoch 27/30\n",
            "16/16 [==============================] - 1s 49ms/step - loss: 0.0968 - accuracy: 0.9594 - val_loss: 1.2148 - val_accuracy: 0.7960\n",
            "Epoch 28/30\n",
            "16/16 [==============================] - 1s 50ms/step - loss: 0.0977 - accuracy: 0.9578 - val_loss: 1.2407 - val_accuracy: 0.7950\n",
            "Epoch 29/30\n",
            "16/16 [==============================] - 1s 49ms/step - loss: 0.0953 - accuracy: 0.9585 - val_loss: 1.1703 - val_accuracy: 0.7980\n",
            "Epoch 30/30\n",
            "16/16 [==============================] - 1s 48ms/step - loss: 0.0963 - accuracy: 0.9597 - val_loss: 1.2714 - val_accuracy: 0.7930\n"
          ]
        }
      ],
      "source": [
        "history_model1 = model1.fit(partial_x_train,\n",
        "                            partial_y_train,\n",
        "                            epochs=30,\n",
        "                            batch_size=512,\n",
        "                            validation_data=(x_val, y_val))"
      ]
    },
    {
      "cell_type": "markdown",
      "metadata": {
        "id": "iTW75HoFtVp1"
      },
      "source": [
        "The model achieved a training accuracy of about 96.0% and a validation accuracy of 79.3%. Note that your results may slightly vary due to random initialization of network weights and biases."
      ]
    },
    {
      "cell_type": "markdown",
      "metadata": {
        "id": "JuQWdZbSrVdc"
      },
      "source": [
        "**8.  Evaluate the model on test set and report the test accuracy. Also, predict the class for the first sample in the test set. (10 pts)**"
      ]
    },
    {
      "cell_type": "code",
      "execution_count": null,
      "metadata": {
        "colab": {
          "base_uri": "https://localhost:8080/"
        },
        "id": "7IDCHpDXtxes",
        "outputId": "52147ff8-cd9e-4e5e-f276-3d27be42f703"
      },
      "outputs": [
        {
          "name": "stdout",
          "output_type": "stream",
          "text": [
            "71/71 [==============================] - 0s 4ms/step - loss: 1.4481 - accuracy: 0.7676\n"
          ]
        }
      ],
      "source": [
        "results1 = model1.evaluate(x_test, one_hot_test_labels)"
      ]
    },
    {
      "cell_type": "markdown",
      "metadata": {
        "id": "EKQoL6OMt3G6"
      },
      "source": [
        "The model's accuracy on the test set was about 77.0%. (Again, note that due to random initialization of the network weights and biases, your results will be slightly different than mine)"
      ]
    },
    {
      "cell_type": "code",
      "execution_count": null,
      "metadata": {
        "colab": {
          "base_uri": "https://localhost:8080/"
        },
        "id": "1aevp68nt9Sq",
        "outputId": "b24d225a-0e47-4bf5-f741-d08a503df11e"
      },
      "outputs": [
        {
          "data": {
            "text/plain": [
              "3"
            ]
          },
          "execution_count": 59,
          "metadata": {},
          "output_type": "execute_result"
        }
      ],
      "source": [
        "predictions = model1.predict(x_test)\n",
        "predictions[0].argmax()"
      ]
    },
    {
      "cell_type": "markdown",
      "metadata": {
        "id": "etna5-UkuiQb"
      },
      "source": [
        "The first sample in the test set belongs to category 3."
      ]
    },
    {
      "cell_type": "markdown",
      "metadata": {
        "id": "qPBgXXpcrY70"
      },
      "source": [
        "**9. Use `model.summary()` to see how many trainable parameters (weights and biases) your neural network model has. Explain why each layer has that many parameters? (5 pts)**"
      ]
    },
    {
      "cell_type": "code",
      "execution_count": null,
      "metadata": {
        "colab": {
          "base_uri": "https://localhost:8080/"
        },
        "id": "F2lGoMrnwosa",
        "outputId": "81b08849-d0a9-4f66-f7cb-20bbb7ed0f3b"
      },
      "outputs": [
        {
          "name": "stdout",
          "output_type": "stream",
          "text": [
            "Model: \"sequential_4\"\n",
            "_________________________________________________________________\n",
            " Layer (type)                Output Shape              Param #   \n",
            "=================================================================\n",
            " dense_12 (Dense)            (None, 64)                640064    \n",
            "                                                                 \n",
            " dense_13 (Dense)            (None, 64)                4160      \n",
            "                                                                 \n",
            " dense_14 (Dense)            (None, 46)                2990      \n",
            "                                                                 \n",
            "=================================================================\n",
            "Total params: 647,214\n",
            "Trainable params: 647,214\n",
            "Non-trainable params: 0\n",
            "_________________________________________________________________\n"
          ]
        }
      ],
      "source": [
        "model1.summary()"
      ]
    },
    {
      "cell_type": "markdown",
      "metadata": {
        "id": "o_AWjm63umms"
      },
      "source": [
        "The first layer has 640,064 parameters. This is because each sample consists of 10,000 values (X1...X10000); each neuron in the first layer, therefore, has 10,000 weights and one bias term. We have 64 neurons in the first layer. Thus, the number of parameters in the first layer is:\n",
        "10000*64 + 64 = 640064"
      ]
    },
    {
      "cell_type": "markdown",
      "metadata": {
        "id": "D-v6lToWxapM"
      },
      "source": [
        "Each neuron in the second layer has 64 weights (because they are connected to the 64 neurons in Layer 1) and one bias term. The number of parameters in the second layer is:\n",
        "64*64 + 64 = 4160"
      ]
    },
    {
      "cell_type": "markdown",
      "metadata": {
        "id": "CToMBeorxyBH"
      },
      "source": [
        "The third layer has 46 neurons and they are fully connected to the 64 neurons in Layer 2. Thus, the third layer has 46*64+46=2990 parameters."
      ]
    },
    {
      "cell_type": "markdown",
      "metadata": {
        "id": "Tlr_yHtUrcs7"
      },
      "source": [
        "**10. Plot the training and validation loss over training epochs. Also, plot the training and validation accuracy. Interpret these plots: explain if you see any signs of overfitting. (10 pts)**"
      ]
    },
    {
      "cell_type": "markdown",
      "metadata": {
        "id": "8vWmJQzj4Y1A"
      },
      "source": [
        "Now, let's plot the training and validation loss and accuracy."
      ]
    },
    {
      "cell_type": "code",
      "execution_count": null,
      "metadata": {
        "colab": {
          "base_uri": "https://localhost:8080/",
          "height": 303
        },
        "id": "6m-j3Q4Ydt2y",
        "outputId": "c5dd9e65-3795-4a58-b863-f13781493ed7"
      },
      "outputs": [
        {
          "data": {
            "text/plain": [
              "<matplotlib.legend.Legend at 0x7f63425fba90>"
            ]
          },
          "execution_count": 60,
          "metadata": {},
          "output_type": "execute_result"
        },
        {
          "data": {
            "image/png": "[encoded data removed]",
            "text/plain": [
              "<Figure size 432x288 with 1 Axes>"
            ]
          },
          "metadata": {},
          "output_type": "display_data"
        }
      ],
      "source": [
        "import matplotlib.pyplot as plt\n",
        "import seaborn as sns\n",
        "sns.set()\n",
        "\n",
        "train_acc1  = history_model1.history['accuracy']\n",
        "train_loss1 = history_model1.history['loss']\n",
        "val_acc1  = history_model1.history['val_accuracy']\n",
        "val_loss1 = history_model1.history['val_loss']\n",
        "\n",
        "epochs = range(1, len(train_acc1) + 1)\n",
        "\n",
        "plt.plot(epochs, train_loss1, label = 'Training Loss')\n",
        "plt.plot(epochs, val_loss1, label = 'Validation Loss')\n",
        "plt.xlabel('Epochs')\n",
        "plt.ylabel('Loss')\n",
        "plt.legend()"
      ]
    },
    {
      "cell_type": "code",
      "execution_count": null,
      "metadata": {
        "colab": {
          "base_uri": "https://localhost:8080/",
          "height": 303
        },
        "id": "32aTvmL3ibDE",
        "outputId": "5081cd38-fdf0-4975-e984-d1df25409527"
      },
      "outputs": [
        {
          "data": {
            "text/plain": [
              "<matplotlib.legend.Legend at 0x7f6342625bd0>"
            ]
          },
          "execution_count": 61,
          "metadata": {},
          "output_type": "execute_result"
        },
        {
          "data": {
            "image/png": "[encoded data removed]",
            "text/plain": [
              "<Figure size 432x288 with 1 Axes>"
            ]
          },
          "metadata": {},
          "output_type": "display_data"
        }
      ],
      "source": [
        "plt.plot(epochs, train_acc1, label = 'Training Accuracy')\n",
        "plt.plot(epochs, val_acc1, label = 'Validation Accuracy')\n",
        "plt.xlabel('Epochs')\n",
        "plt.ylabel('Accuracy')\n",
        "plt.legend()"
      ]
    },
    {
      "cell_type": "markdown",
      "metadata": {
        "id": "x69YFuNO4rG8"
      },
      "source": [
        "The network begins to overfit after 9 epochs because the validation loss starts to increase after epoch 9 (in my case)."
      ]
    },
    {
      "cell_type": "markdown",
      "metadata": {
        "id": "ctC_ctA4uwr3"
      },
      "source": [
        "**11. Try to improve the performance of your model using regularization methods. Specifically, try the following methods:**\n",
        "\n",
        "*   **L2 weight regularization with alpha=0.001 applied to both hidden layers (call it `model2`)**\n",
        "*   **dropout with p=0.1 applied to both hidden layers (call it `model3`)**\n",
        "\n",
        "**Keep all other parameters the same as your first model. Make sure to monitor perofrmance on the validation set to use in the next question. (20 pts)**"
      ]
    },
    {
      "cell_type": "markdown",
      "metadata": {
        "id": "2wKIv8L4vwVn"
      },
      "source": [
        "Below, I develop and train model2, in which L2 weight regularization with alpha=0.001 is applied to both hidden layers."
      ]
    },
    {
      "cell_type": "code",
      "execution_count": null,
      "metadata": {
        "colab": {
          "base_uri": "https://localhost:8080/"
        },
        "id": "yxtRCY3lww6v",
        "outputId": "9b084048-acb3-4cdf-db8c-20913bea48db"
      },
      "outputs": [
        {
          "name": "stdout",
          "output_type": "stream",
          "text": [
            "Epoch 1/30\n",
            "16/16 [==============================] - 2s 65ms/step - loss: 2.6905 - accuracy: 0.5233 - val_loss: 1.8768 - val_accuracy: 0.6410\n",
            "Epoch 2/30\n",
            "16/16 [==============================] - 1s 52ms/step - loss: 1.5585 - accuracy: 0.6977 - val_loss: 1.5071 - val_accuracy: 0.7040\n",
            "Epoch 3/30\n",
            "16/16 [==============================] - 1s 53ms/step - loss: 1.2494 - accuracy: 0.7548 - val_loss: 1.3554 - val_accuracy: 0.7340\n",
            "Epoch 4/30\n",
            "16/16 [==============================] - 1s 51ms/step - loss: 1.0650 - accuracy: 0.7990 - val_loss: 1.2705 - val_accuracy: 0.7580\n",
            "Epoch 5/30\n",
            "16/16 [==============================] - 1s 53ms/step - loss: 0.9313 - accuracy: 0.8330 - val_loss: 1.1873 - val_accuracy: 0.7840\n",
            "Epoch 6/30\n",
            "16/16 [==============================] - 1s 54ms/step - loss: 0.8295 - accuracy: 0.8611 - val_loss: 1.1402 - val_accuracy: 0.7930\n",
            "Epoch 7/30\n",
            "16/16 [==============================] - 1s 53ms/step - loss: 0.7507 - accuracy: 0.8839 - val_loss: 1.1276 - val_accuracy: 0.7980\n",
            "Epoch 8/30\n",
            "16/16 [==============================] - 1s 84ms/step - loss: 0.6891 - accuracy: 0.9045 - val_loss: 1.1037 - val_accuracy: 0.8050\n",
            "Epoch 9/30\n",
            "16/16 [==============================] - 1s 88ms/step - loss: 0.6440 - accuracy: 0.9151 - val_loss: 1.0878 - val_accuracy: 0.8180\n",
            "Epoch 10/30\n",
            "16/16 [==============================] - 1s 56ms/step - loss: 0.5971 - accuracy: 0.9248 - val_loss: 1.0675 - val_accuracy: 0.8160\n",
            "Epoch 11/30\n",
            "16/16 [==============================] - 1s 53ms/step - loss: 0.5734 - accuracy: 0.9293 - val_loss: 1.1006 - val_accuracy: 0.8130\n",
            "Epoch 12/30\n",
            "16/16 [==============================] - 1s 54ms/step - loss: 0.5413 - accuracy: 0.9354 - val_loss: 1.0588 - val_accuracy: 0.8200\n",
            "Epoch 13/30\n",
            "16/16 [==============================] - 1s 52ms/step - loss: 0.5178 - accuracy: 0.9379 - val_loss: 1.0440 - val_accuracy: 0.8200\n",
            "Epoch 14/30\n",
            "16/16 [==============================] - 1s 52ms/step - loss: 0.5012 - accuracy: 0.9399 - val_loss: 1.0742 - val_accuracy: 0.8160\n",
            "Epoch 15/30\n",
            "16/16 [==============================] - 1s 54ms/step - loss: 0.4851 - accuracy: 0.9468 - val_loss: 1.0440 - val_accuracy: 0.8290\n",
            "Epoch 16/30\n",
            "16/16 [==============================] - 1s 54ms/step - loss: 0.4721 - accuracy: 0.9465 - val_loss: 1.0451 - val_accuracy: 0.8220\n",
            "Epoch 17/30\n",
            "16/16 [==============================] - 1s 52ms/step - loss: 0.4682 - accuracy: 0.9466 - val_loss: 1.0741 - val_accuracy: 0.8140\n",
            "Epoch 18/30\n",
            "16/16 [==============================] - 1s 51ms/step - loss: 0.4564 - accuracy: 0.9499 - val_loss: 1.0509 - val_accuracy: 0.8200\n",
            "Epoch 19/30\n",
            "16/16 [==============================] - 1s 50ms/step - loss: 0.4431 - accuracy: 0.9510 - val_loss: 1.0509 - val_accuracy: 0.8240\n",
            "Epoch 20/30\n",
            "16/16 [==============================] - 1s 54ms/step - loss: 0.4318 - accuracy: 0.9526 - val_loss: 1.0605 - val_accuracy: 0.8160\n",
            "Epoch 21/30\n",
            "16/16 [==============================] - 1s 52ms/step - loss: 0.4251 - accuracy: 0.9523 - val_loss: 1.0839 - val_accuracy: 0.8070\n",
            "Epoch 22/30\n",
            "16/16 [==============================] - 1s 52ms/step - loss: 0.4202 - accuracy: 0.9535 - val_loss: 1.0652 - val_accuracy: 0.8160\n",
            "Epoch 23/30\n",
            "16/16 [==============================] - 1s 52ms/step - loss: 0.4158 - accuracy: 0.9539 - val_loss: 1.0528 - val_accuracy: 0.8210\n",
            "Epoch 24/30\n",
            "16/16 [==============================] - 1s 53ms/step - loss: 0.4072 - accuracy: 0.9531 - val_loss: 1.0395 - val_accuracy: 0.8210\n",
            "Epoch 25/30\n",
            "16/16 [==============================] - 1s 53ms/step - loss: 0.4026 - accuracy: 0.9539 - val_loss: 1.0374 - val_accuracy: 0.8220\n",
            "Epoch 26/30\n",
            "16/16 [==============================] - 1s 53ms/step - loss: 0.4068 - accuracy: 0.9518 - val_loss: 1.0768 - val_accuracy: 0.8070\n",
            "Epoch 27/30\n",
            "16/16 [==============================] - 1s 53ms/step - loss: 0.3884 - accuracy: 0.9554 - val_loss: 1.1000 - val_accuracy: 0.8080\n",
            "Epoch 28/30\n",
            "16/16 [==============================] - 1s 52ms/step - loss: 0.3914 - accuracy: 0.9560 - val_loss: 1.0488 - val_accuracy: 0.8230\n",
            "Epoch 29/30\n",
            "16/16 [==============================] - 1s 51ms/step - loss: 0.3822 - accuracy: 0.9569 - val_loss: 1.0813 - val_accuracy: 0.8150\n",
            "Epoch 30/30\n",
            "16/16 [==============================] - 1s 51ms/step - loss: 0.3884 - accuracy: 0.9544 - val_loss: 1.1184 - val_accuracy: 0.8060\n"
          ]
        }
      ],
      "source": [
        "from tensorflow.keras import regularizers\n",
        "\n",
        "model2 = models.Sequential()\n",
        "model2.add(layers.Dense(64, activation='relu', kernel_regularizer=regularizers.l2(0.001), input_shape=(10000,)))\n",
        "model2.add(layers.Dense(64, activation='relu', kernel_regularizer=regularizers.l2(0.001)))\n",
        "model2.add(layers.Dense(46, activation='softmax'))\n",
        "\n",
        "model2.compile(optimizer='rmsprop',\n",
        "              loss='categorical_crossentropy',\n",
        "              metrics=['accuracy'])\n",
        "\n",
        "history_model2 = model2.fit(partial_x_train,\n",
        "                            partial_y_train,\n",
        "                            epochs=30,\n",
        "                            batch_size=512,\n",
        "                            validation_data=(x_val, y_val))"
      ]
    },
    {
      "cell_type": "markdown",
      "metadata": {
        "id": "MhjJ1Dq1y2OJ"
      },
      "source": [
        "Now, let's develop and train model3, in which dropout with p=0.1 is applied to both hidden layers."
      ]
    },
    {
      "cell_type": "code",
      "execution_count": null,
      "metadata": {
        "colab": {
          "base_uri": "https://localhost:8080/"
        },
        "id": "AZQuOZokx_UU",
        "outputId": "a5c5a03e-442d-4c3e-9107-316924640c98"
      },
      "outputs": [
        {
          "name": "stdout",
          "output_type": "stream",
          "text": [
            "Epoch 1/30\n",
            "16/16 [==============================] - 2s 95ms/step - loss: 2.6891 - accuracy: 0.4999 - val_loss: 1.7960 - val_accuracy: 0.6300\n",
            "Epoch 2/30\n",
            "16/16 [==============================] - 1s 51ms/step - loss: 1.5052 - accuracy: 0.6863 - val_loss: 1.3831 - val_accuracy: 0.7100\n",
            "Epoch 3/30\n",
            "16/16 [==============================] - 1s 51ms/step - loss: 1.1620 - accuracy: 0.7429 - val_loss: 1.2023 - val_accuracy: 0.7440\n",
            "Epoch 4/30\n",
            "16/16 [==============================] - 1s 52ms/step - loss: 0.9420 - accuracy: 0.7937 - val_loss: 1.0802 - val_accuracy: 0.7780\n",
            "Epoch 5/30\n",
            "16/16 [==============================] - 1s 81ms/step - loss: 0.7820 - accuracy: 0.8332 - val_loss: 1.0079 - val_accuracy: 0.7900\n",
            "Epoch 6/30\n",
            "16/16 [==============================] - 1s 87ms/step - loss: 0.6528 - accuracy: 0.8577 - val_loss: 0.9491 - val_accuracy: 0.8080\n",
            "Epoch 7/30\n",
            "16/16 [==============================] - 1s 59ms/step - loss: 0.5425 - accuracy: 0.8819 - val_loss: 0.9155 - val_accuracy: 0.8100\n",
            "Epoch 8/30\n",
            "16/16 [==============================] - 1s 50ms/step - loss: 0.4597 - accuracy: 0.8998 - val_loss: 0.9050 - val_accuracy: 0.8080\n",
            "Epoch 9/30\n",
            "16/16 [==============================] - 1s 51ms/step - loss: 0.3879 - accuracy: 0.9138 - val_loss: 0.8644 - val_accuracy: 0.8220\n",
            "Epoch 10/30\n",
            "16/16 [==============================] - 1s 51ms/step - loss: 0.3407 - accuracy: 0.9256 - val_loss: 0.8638 - val_accuracy: 0.8190\n",
            "Epoch 11/30\n",
            "16/16 [==============================] - 1s 50ms/step - loss: 0.2929 - accuracy: 0.9340 - val_loss: 0.8611 - val_accuracy: 0.8190\n",
            "Epoch 12/30\n",
            "16/16 [==============================] - 1s 50ms/step - loss: 0.2608 - accuracy: 0.9397 - val_loss: 0.8703 - val_accuracy: 0.8200\n",
            "Epoch 13/30\n",
            "16/16 [==============================] - 1s 50ms/step - loss: 0.2273 - accuracy: 0.9470 - val_loss: 0.9104 - val_accuracy: 0.8050\n",
            "Epoch 14/30\n",
            "16/16 [==============================] - 1s 51ms/step - loss: 0.2100 - accuracy: 0.9481 - val_loss: 0.9226 - val_accuracy: 0.8090\n",
            "Epoch 15/30\n",
            "16/16 [==============================] - 1s 50ms/step - loss: 0.1902 - accuracy: 0.9501 - val_loss: 0.9032 - val_accuracy: 0.8210\n",
            "Epoch 16/30\n",
            "16/16 [==============================] - 1s 51ms/step - loss: 0.1744 - accuracy: 0.9544 - val_loss: 0.9039 - val_accuracy: 0.8170\n",
            "Epoch 17/30\n",
            "16/16 [==============================] - 1s 51ms/step - loss: 0.1626 - accuracy: 0.9564 - val_loss: 0.9252 - val_accuracy: 0.8140\n",
            "Epoch 18/30\n",
            "16/16 [==============================] - 1s 51ms/step - loss: 0.1590 - accuracy: 0.9560 - val_loss: 0.9433 - val_accuracy: 0.8060\n",
            "Epoch 19/30\n",
            "16/16 [==============================] - 1s 51ms/step - loss: 0.1388 - accuracy: 0.9590 - val_loss: 0.9604 - val_accuracy: 0.8080\n",
            "Epoch 20/30\n",
            "16/16 [==============================] - 1s 49ms/step - loss: 0.1349 - accuracy: 0.9575 - val_loss: 0.9647 - val_accuracy: 0.8120\n",
            "Epoch 21/30\n",
            "16/16 [==============================] - 1s 51ms/step - loss: 0.1345 - accuracy: 0.9580 - val_loss: 0.9724 - val_accuracy: 0.8110\n",
            "Epoch 22/30\n",
            "16/16 [==============================] - 1s 52ms/step - loss: 0.1245 - accuracy: 0.9600 - val_loss: 1.0086 - val_accuracy: 0.8070\n",
            "Epoch 23/30\n",
            "16/16 [==============================] - 1s 50ms/step - loss: 0.1248 - accuracy: 0.9610 - val_loss: 1.0389 - val_accuracy: 0.8050\n",
            "Epoch 24/30\n",
            "16/16 [==============================] - 1s 51ms/step - loss: 0.1198 - accuracy: 0.9594 - val_loss: 1.0472 - val_accuracy: 0.7990\n",
            "Epoch 25/30\n",
            "16/16 [==============================] - 1s 52ms/step - loss: 0.1141 - accuracy: 0.9592 - val_loss: 1.0128 - val_accuracy: 0.8110\n",
            "Epoch 26/30\n",
            "16/16 [==============================] - 1s 51ms/step - loss: 0.1161 - accuracy: 0.9594 - val_loss: 1.0173 - val_accuracy: 0.8110\n",
            "Epoch 27/30\n",
            "16/16 [==============================] - 1s 51ms/step - loss: 0.1095 - accuracy: 0.9604 - val_loss: 1.0364 - val_accuracy: 0.8060\n",
            "Epoch 28/30\n",
            "16/16 [==============================] - 1s 52ms/step - loss: 0.1047 - accuracy: 0.9594 - val_loss: 1.0625 - val_accuracy: 0.8120\n",
            "Epoch 29/30\n",
            "16/16 [==============================] - 1s 49ms/step - loss: 0.1038 - accuracy: 0.9593 - val_loss: 1.0370 - val_accuracy: 0.8070\n",
            "Epoch 30/30\n",
            "16/16 [==============================] - 1s 49ms/step - loss: 0.1029 - accuracy: 0.9588 - val_loss: 1.0489 - val_accuracy: 0.8150\n"
          ]
        }
      ],
      "source": [
        "model3 = models.Sequential()\n",
        "model3.add(layers.Dense(64, activation='relu', input_shape=(10000,)))\n",
        "model3.add(layers.Dropout(0.1))\n",
        "model3.add(layers.Dense(64, activation='relu'))\n",
        "model3.add(layers.Dropout(0.1))\n",
        "model3.add(layers.Dense(46, activation='softmax'))\n",
        "\n",
        "model3.compile(optimizer='rmsprop',\n",
        "              loss='categorical_crossentropy',\n",
        "              metrics=['accuracy'])\n",
        "\n",
        "history_model3 = model3.fit(partial_x_train,\n",
        "                            partial_y_train,\n",
        "                            epochs=30,\n",
        "                            batch_size=512,\n",
        "                            validation_data=(x_val, y_val))"
      ]
    },
    {
      "cell_type": "markdown",
      "metadata": {
        "id": "pwO63THIzbeE"
      },
      "source": [
        "**12. Create a graph and plot the validation loss of all the three models on that graph. Use this graph to decide which model you are going to select and why. (10 pts)**"
      ]
    },
    {
      "cell_type": "code",
      "execution_count": null,
      "metadata": {
        "colab": {
          "base_uri": "https://localhost:8080/",
          "height": 303
        },
        "id": "vSRwbbgO1COf",
        "outputId": "eba64ea7-0d62-4649-d5d0-8da0cf53ef1f"
      },
      "outputs": [
        {
          "data": {
            "text/plain": [
              "<matplotlib.legend.Legend at 0x7f63395dac50>"
            ]
          },
          "execution_count": 64,
          "metadata": {},
          "output_type": "execute_result"
        },
        {
          "data": {
            "image/png": "[encoded data removed]",
            "text/plain": [
              "<Figure size 432x288 with 1 Axes>"
            ]
          },
          "metadata": {},
          "output_type": "display_data"
        }
      ],
      "source": [
        "val_loss2 = history_model2.history['val_loss']\n",
        "val_loss3 = history_model3.history['val_loss']\n",
        "\n",
        "epochs = range(1, len(val_loss2) + 1)\n",
        "\n",
        "plt.plot(epochs, val_loss1, label = 'Original model')\n",
        "plt.plot(epochs, val_loss2, label = 'L2 regularization model')\n",
        "plt.plot(epochs, val_loss3, label = 'Dropout model')\n",
        "plt.xlabel('Epochs')\n",
        "plt.ylabel('Loss')\n",
        "plt.legend()"
      ]
    },
    {
      "cell_type": "markdown",
      "metadata": {
        "id": "PCY-IrgY430_"
      },
      "source": [
        "From the above graph, it can be seen that the dropout model achieves the smallest (lowest) validation loss among the 3 models. Hence, we select the dropout model as the best model among the 3 we tried.\n",
        "It starts overfitting after 11 epochs. So, to build the final model, I will stop the training process after 11 epochs in the next question."
      ]
    },
    {
      "cell_type": "markdown",
      "metadata": {
        "id": "3EIA_WRL0Lj-"
      },
      "source": [
        "**13. Apply early stopping to your selected model from the previous question to prevent it from overfitting. Call this the `final_model`. Evaluate this `final_model` on the test set and report the test accuracy. How does it compare to the test accuracy you obtained from your first model in Question 8? (10 pts)**"
      ]
    },
    {
      "cell_type": "code",
      "execution_count": null,
      "metadata": {
        "colab": {
          "base_uri": "https://localhost:8080/"
        },
        "id": "e9hh5bIu54XA",
        "outputId": "60d54cce-5f29-4a73-96e4-4c74fbcbfa31"
      },
      "outputs": [
        {
          "name": "stdout",
          "output_type": "stream",
          "text": [
            "Epoch 1/11\n",
            "16/16 [==============================] - 2s 61ms/step - loss: 2.6721 - accuracy: 0.5321 - val_loss: 1.7565 - val_accuracy: 0.6570\n",
            "Epoch 2/11\n",
            "16/16 [==============================] - 1s 60ms/step - loss: 1.4699 - accuracy: 0.6943 - val_loss: 1.3462 - val_accuracy: 0.7090\n",
            "Epoch 3/11\n",
            "16/16 [==============================] - 1s 86ms/step - loss: 1.1348 - accuracy: 0.7468 - val_loss: 1.1733 - val_accuracy: 0.7390\n",
            "Epoch 4/11\n",
            "16/16 [==============================] - 1s 81ms/step - loss: 0.9315 - accuracy: 0.7889 - val_loss: 1.0693 - val_accuracy: 0.7740\n",
            "Epoch 5/11\n",
            "16/16 [==============================] - 1s 51ms/step - loss: 0.7817 - accuracy: 0.8244 - val_loss: 1.0028 - val_accuracy: 0.7900\n",
            "Epoch 6/11\n",
            "16/16 [==============================] - 1s 50ms/step - loss: 0.6555 - accuracy: 0.8478 - val_loss: 0.9725 - val_accuracy: 0.7850\n",
            "Epoch 7/11\n",
            "16/16 [==============================] - 1s 52ms/step - loss: 0.5527 - accuracy: 0.8740 - val_loss: 0.9627 - val_accuracy: 0.7880\n",
            "Epoch 8/11\n",
            "16/16 [==============================] - 1s 52ms/step - loss: 0.4720 - accuracy: 0.8929 - val_loss: 0.8938 - val_accuracy: 0.8090\n",
            "Epoch 9/11\n",
            "16/16 [==============================] - 1s 51ms/step - loss: 0.3984 - accuracy: 0.9103 - val_loss: 0.8977 - val_accuracy: 0.8130\n",
            "Epoch 10/11\n",
            "16/16 [==============================] - 1s 50ms/step - loss: 0.3446 - accuracy: 0.9251 - val_loss: 0.8684 - val_accuracy: 0.8210\n",
            "Epoch 11/11\n",
            "16/16 [==============================] - 1s 49ms/step - loss: 0.2999 - accuracy: 0.9325 - val_loss: 0.8838 - val_accuracy: 0.8200\n"
          ]
        }
      ],
      "source": [
        "final_model = models.Sequential()\n",
        "final_model.add(layers.Dense(64, activation='relu', input_shape=(10000,)))\n",
        "final_model.add(layers.Dropout(0.1))\n",
        "final_model.add(layers.Dense(64, activation='relu'))\n",
        "final_model.add(layers.Dropout(0.1))\n",
        "final_model.add(layers.Dense(46, activation='softmax'))\n",
        "\n",
        "final_model.compile(optimizer='rmsprop',\n",
        "              loss='categorical_crossentropy',\n",
        "              metrics=['accuracy'])\n",
        "\n",
        "history_final_model = final_model.fit(partial_x_train,\n",
        "                            partial_y_train,\n",
        "                            epochs=11,\n",
        "                            batch_size=512,\n",
        "                            validation_data=(x_val, y_val))"
      ]
    },
    {
      "cell_type": "code",
      "execution_count": null,
      "metadata": {
        "colab": {
          "base_uri": "https://localhost:8080/"
        },
        "id": "h-EibX876K4A",
        "outputId": "40c44252-fbcc-404a-a478-f2f0a00d7f25"
      },
      "outputs": [
        {
          "name": "stdout",
          "output_type": "stream",
          "text": [
            "71/71 [==============================] - 0s 3ms/step - loss: 0.9678 - accuracy: 0.7930\n"
          ]
        }
      ],
      "source": [
        "final_results = final_model.evaluate(x_test, one_hot_test_labels)"
      ]
    },
    {
      "cell_type": "markdown",
      "metadata": {
        "id": "ou7597iHLgB-"
      },
      "source": [
        "We achieved a test accuracy of 79.3%, which is higher than our first model, which had a test accuracy of about 77.0%. Thanks to dropout and early stopping, we were able to reduce overfitting and slightly improve the performance of our neural network on new (unseen) data."
      ]
    }
  ],
  "metadata": {
    "colab": {
      "provenance": []
    },
    "kernelspec": {
      "display_name": "Python 3",
      "language": "python",
      "name": "python3"
    },
    "language_info": {
      "codemirror_mode": {
        "name": "ipython",
        "version": 3
      },
      "file_extension": ".py",
      "mimetype": "text/x-python",
      "name": "python",
      "nbconvert_exporter": "python",
      "pygments_lexer": "ipython3",
      "version": "3.5.2"
    }
  },
  "nbformat": 4,
  "nbformat_minor": 0
}
